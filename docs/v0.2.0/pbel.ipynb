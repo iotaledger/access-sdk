{
 "cells": [
  {
   "cell_type": "markdown",
   "metadata": {},
   "source": [
    "In terms of an IOTA 2.0 dApp, Access can be summarized as two kinds of standardized message payloads:\n",
    "- ***policy update***\n",
    "- ***access request***\n",
    "\n",
    "where the two payload kinds are conceptually connected by the notion of a ***request predicate***.\n",
    "\n",
    "A *request predicate* consists of the logical outcome of an *access request*. This outcome is always defined as a value belonging a 4-valued bilattice, bound by Belnap logic. The 4 possible values are:\n",
    "- `true` ($\\textbf{t}$)\n",
    "- `false` ($\\textbf{f}$)\n",
    "- `conflict` ($\\top$)\n",
    "- `undefined` ($\\bot$)\n",
    "\n",
    "Please refer to [Huth et al.](https://www.doc.ic.ac.uk/research/technicalreports/2011/DTR11-6.pdf) for a formal introduction into Belnap logic.\n",
    "\n",
    "Belnap logic elements (such as atomic symbols, connectors and quantifiers) and operators (such as `meet`, `join`, `implication` and `negation`) are used as foundation to a policy creation language (***PBel***).\n"
   ]
  }
 ],
 "metadata": {
  "kernelspec": {
   "display_name": "Python 2",
   "language": "python",
   "name": "python2"
  },
  "language_info": {
   "codemirror_mode": {
    "name": "ipython",
    "version": 2
   },
   "file_extension": ".py",
   "mimetype": "text/x-python",
   "name": "python",
   "nbconvert_exporter": "python",
   "pygments_lexer": "ipython2",
   "version": "2.7.17"
  }
 },
 "nbformat": 4,
 "nbformat_minor": 2
}
